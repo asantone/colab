{
  "nbformat": 4,
  "nbformat_minor": 0,
  "metadata": {
    "colab": {
      "provenance": [],
      "authorship_tag": "ABX9TyPdv/KPQdMb5Ku0S0eVqdZk",
      "include_colab_link": true
    },
    "kernelspec": {
      "name": "python3",
      "display_name": "Python 3"
    },
    "language_info": {
      "name": "python"
    }
  },
  "cells": [
    {
      "cell_type": "markdown",
      "metadata": {
        "id": "view-in-github",
        "colab_type": "text"
      },
      "source": [
        "<a href=\"https://colab.research.google.com/github/asantone/colab/blob/main/colab_02_oop.ipynb\" target=\"_parent\"><img src=\"https://colab.research.google.com/assets/colab-badge.svg\" alt=\"Open In Colab\"/></a>"
      ]
    },
    {
      "cell_type": "markdown",
      "source": [
        "#Introduction to Object-Oriented Programming (OOP) with Python"
      ],
      "metadata": {
        "id": "Esn8SAA8MEDf"
      }
    },
    {
      "cell_type": "markdown",
      "source": [
        "## Background\n",
        "\n",
        "* Provide a proper explanation of OO programming."
      ],
      "metadata": {
        "id": "1Gt3vNF_MQnn"
      }
    },
    {
      "cell_type": "markdown",
      "source": [
        "## Assignment\n",
        "\n",
        "For this assignment, your goals are to:\n",
        "\n",
        "\n",
        "*   define a class `Groceries` which contains three instance variables (`item`, `quantity`, and `total`) in the instance method.\n",
        "*   define a function `get_groceries` which obtains values for the variables `item`,`quantity`,and `unit_price` from user input and returns a `groceries` object.\n",
        "*   define a function `main` which:\n",
        "    * obtains the results of `get_groceries`\n",
        "    * calculates a total price\n",
        "    * prints the results as a string in the form \"You bought `quantity` `item`(s) for a total of $`total`.\".\n",
        "    \n",
        "For example, \"You bought 50 apple(s) for a total of \\$16.\"\n",
        "\n",
        "#### Assumptions\n",
        "\n",
        "* Numeric values are integers\n",
        "* Grocery items are single words"
      ],
      "metadata": {
        "id": "jv6SOtVgO6qm"
      }
    },
    {
      "cell_type": "code",
      "execution_count": 13,
      "metadata": {
        "colab": {
          "base_uri": "https://localhost:8080/"
        },
        "id": "UQdUAfuxLzOf",
        "outputId": "6fb8cf65-c43a-47e3-9c45-b03a467ba7d7"
      },
      "outputs": [
        {
          "output_type": "stream",
          "name": "stdout",
          "text": [
            "Item: eggs\n",
            "Quantity: 5\n",
            "Unit price: 19\n",
            "You bought 5 eggs(s) for a total of $95.\n"
          ]
        }
      ],
      "source": [
        "#define the Groceries class with three instance variables in the init method\n",
        "class Groceries:\n",
        "  def __init__(self, item, quantity, total):\n",
        "    self.item = item\n",
        "    self.quantity = quantity\n",
        "    self.total = total\n",
        "\n",
        "#define the groceries definition to take user input, run the calculation, and return a Groceries object\n",
        "def get_groceries():\n",
        "\n",
        "  #get user inputs\n",
        "  #force numeric values as integers\n",
        "  item = input(\"Item: \")\n",
        "  quantity = int(input(\"Quantity: \"))\n",
        "  unit_price = int(input(\"Unit price: \"))\n",
        "\n",
        "  #calculate the total price\n",
        "  total = unit_price*quantity\n",
        "\n",
        "  #create an object of the class Groceries\n",
        "  groceries = Groceries(item,quantity,total)\n",
        "\n",
        "  #return the object\n",
        "  return groceries\n",
        "\n",
        "#define the main function to run the get_groceries function and print the result\n",
        "def main():\n",
        "  #get the groceries object (same name here)\n",
        "  groceries = get_groceries()\n",
        "\n",
        "  #print the output statement in a legible format\n",
        "  print(f\"You bought {groceries.quantity} {groceries.item}(s) for a total of ${groceries.total}.\")\n",
        "\n",
        "#run file iff standalone\n",
        "if __name__ == \"__main__\":\n",
        "  main()"
      ]
    }
  ]
}