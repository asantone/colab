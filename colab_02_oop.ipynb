{
  "nbformat": 4,
  "nbformat_minor": 0,
  "metadata": {
    "colab": {
      "provenance": [],
      "authorship_tag": "ABX9TyMQbsCBCPfV77NSF3Kh4QCe",
      "include_colab_link": true
    },
    "kernelspec": {
      "name": "python3",
      "display_name": "Python 3"
    },
    "language_info": {
      "name": "python"
    }
  },
  "cells": [
    {
      "cell_type": "markdown",
      "metadata": {
        "id": "view-in-github",
        "colab_type": "text"
      },
      "source": [
        "<a href=\"https://colab.research.google.com/github/asantone/colab/blob/main/colab_02_oop.ipynb\" target=\"_parent\"><img src=\"https://colab.research.google.com/assets/colab-badge.svg\" alt=\"Open In Colab\"/></a>"
      ]
    },
    {
      "cell_type": "markdown",
      "source": [
        "#Introduction to Object-Oriented Programming (OOP) with Python"
      ],
      "metadata": {
        "id": "Esn8SAA8MEDf"
      }
    },
    {
      "cell_type": "markdown",
      "source": [
        "## Background\n",
        "\n",
        "#### Procedural Programming\n",
        "\n",
        "Let's start our discussion with a brief review of procedural programming. In this programming paradigm, the code is structured linearly and makes extensive use of functions and a succession of steps to execute the program. In the example below, a single function is used to first collect user inputs, perform a calculation, and print an output statement. The function is called once, triggering the actions to occur. Inside the function, the steps are processed sequentially."
      ],
      "metadata": {
        "id": "1Gt3vNF_MQnn"
      }
    },
    {
      "cell_type": "code",
      "source": [
        "#procedural programming example\n",
        "\n",
        "#function to collect and process user inputs\n",
        "def get_groceries():\n",
        "\n",
        "  #collect user inputs\n",
        "  item = input(\"Item: \")\n",
        "  quantity = int(input(\"Quantity: \"))\n",
        "  unit_price = int(input(\"Unit price: \"))\n",
        "\n",
        "  #calculate the total price\n",
        "  total = unit_price*quantity\n",
        "\n",
        "  #output\n",
        "  print(f\"You bought {quantity} {item}(s) for a total of ${total}.\")\n",
        "\n",
        "#run the function\n",
        "get_groceries()"
      ],
      "metadata": {
        "colab": {
          "base_uri": "https://localhost:8080/"
        },
        "id": "5Gtt1UyashBN",
        "outputId": "58c7e710-efb5-4dad-8162-5fe7be923840"
      },
      "execution_count": 4,
      "outputs": [
        {
          "output_type": "stream",
          "name": "stdout",
          "text": [
            "Item: eggs\n",
            "Quantity: 4\n",
            "Unit price: 5\n",
            "You bought 4 eggs(s) for a total of $20.\n"
          ]
        }
      ]
    },
    {
      "cell_type": "markdown",
      "source": [
        "\n",
        "#### Object-oriented Programming\n",
        "\n",
        "In contrast with procedural programming, the object-oriented programming paradigm relies on the construction and interaction of entities called objects. This strategy has the advantage of reusability due to the use of object templates called classes. Let's look at an example for some clarity.\n",
        "\n",
        "Imagine you are designing software to help model the biodiversity of the forest. As you can imagine, there would be many types of plants, animals, fungi, and microbes living together. Programming each of the individuals would be difficult and by using high-level classes for each of these major organism types, you could create a template for each to contain their shared properties.\n",
        "\n",
        "For example, a `Plant` class would have its inputs defined as sunlight, carbon dioxide, and water. Its output would be oxygen and sugar. Another shared characteristic that could be defined in this class is a plant's preferred light environment such as full shade, partial shade, partial sun, or full sun. All of these characteristics are known as attributes.\n",
        "\n",
        "Each \"instance\" of the `Plant` class would then differ from each other instance. For example, while oak trees and ferns could be instances of the `Plant` class, the lighting requirements for each would take a different value with oaks preferring full sun and ferns preferring full shade. Do you see how the instances relate to the class? The same approach would be used for each other organism type with several important classes and many instances of those classes for each individual.\n",
        "\n",
        "| ![Plant_class](https://drive.google.com/uc?export=view&id=1Cf4XxRYXcfpc1PvItU6jfER2TZ5v-EWA) |\n",
        "|:--:|\n",
        "| *Figure 1: Plant Class and Instances \"Oak\" and \"Fern\"* |\n",
        "\n",
        "\n"
      ],
      "metadata": {
        "id": "3q48lfcdxQ8K"
      }
    },
    {
      "cell_type": "markdown",
      "source": [
        "## Assignment\n",
        "\n",
        "For this assignment, your goals are to:\n",
        "\n",
        "\n",
        "*   define a class `Groceries` which contains three instance variables (`item`, `quantity`, and `total`) in the instance method.\n",
        "*   define a function `get_groceries` which obtains values for the variables `item`,`quantity`,and `unit_price` from user input and returns a `groceries` object.\n",
        "*   define a function `main` which:\n",
        "    * obtains the results of `get_groceries`\n",
        "    * calculates a total price\n",
        "    * prints the results as a string in the form \"You bought `quantity` `item`(s) for a total of $`total`.\".\n",
        "    \n",
        "For example, \"You bought 50 apple(s) for a total of \\$16.\"\n",
        "\n",
        "#### Assumptions\n",
        "\n",
        "* Numeric values are integers\n",
        "* Grocery items are single words"
      ],
      "metadata": {
        "id": "jv6SOtVgO6qm"
      }
    },
    {
      "cell_type": "code",
      "execution_count": null,
      "metadata": {
        "colab": {
          "base_uri": "https://localhost:8080/"
        },
        "id": "UQdUAfuxLzOf",
        "outputId": "6fb8cf65-c43a-47e3-9c45-b03a467ba7d7"
      },
      "outputs": [
        {
          "output_type": "stream",
          "name": "stdout",
          "text": [
            "Item: eggs\n",
            "Quantity: 5\n",
            "Unit price: 19\n",
            "You bought 5 eggs(s) for a total of $95.\n"
          ]
        }
      ],
      "source": [
        "#define the Groceries class with three instance variables in the init method\n",
        "class Groceries:\n",
        "  def __init__(self, item, quantity, total):\n",
        "    self.item = item\n",
        "    self.quantity = quantity\n",
        "    self.total = total\n",
        "\n",
        "#define the groceries definition to take user input, run the calculation, and return a Groceries object\n",
        "def get_groceries():\n",
        "\n",
        "  #get user inputs\n",
        "  #force numeric values as integers\n",
        "  item = input(\"Item: \")\n",
        "  quantity = int(input(\"Quantity: \"))\n",
        "  unit_price = int(input(\"Unit price: \"))\n",
        "\n",
        "  #calculate the total price\n",
        "  total = unit_price*quantity\n",
        "\n",
        "  #create an object of the class Groceries\n",
        "  groceries = Groceries(item,quantity,total)\n",
        "\n",
        "  #return the object\n",
        "  return groceries\n",
        "\n",
        "#define the main function to run the get_groceries function and print the result\n",
        "def main():\n",
        "  #get the groceries object (same name here)\n",
        "  groceries = get_groceries()\n",
        "\n",
        "  #print the output statement in a legible format\n",
        "  print(f\"You bought {groceries.quantity} {groceries.item}(s) for a total of ${groceries.total}.\")\n",
        "\n",
        "#run file iff standalone\n",
        "if __name__ == \"__main__\":\n",
        "  main()"
      ]
    }
  ]
}