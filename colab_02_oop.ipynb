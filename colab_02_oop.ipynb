{
  "nbformat": 4,
  "nbformat_minor": 0,
  "metadata": {
    "colab": {
      "provenance": [],
      "authorship_tag": "ABX9TyOBXOvFEWt1GjFUKYEKAqe+",
      "include_colab_link": true
    },
    "kernelspec": {
      "name": "python3",
      "display_name": "Python 3"
    },
    "language_info": {
      "name": "python"
    }
  },
  "cells": [
    {
      "cell_type": "markdown",
      "metadata": {
        "id": "view-in-github",
        "colab_type": "text"
      },
      "source": [
        "<a href=\"https://colab.research.google.com/github/asantone/colab/blob/main/colab_02_oop.ipynb\" target=\"_parent\"><img src=\"https://colab.research.google.com/assets/colab-badge.svg\" alt=\"Open In Colab\"/></a>"
      ]
    },
    {
      "cell_type": "markdown",
      "source": [
        "#Introduction to Object-Oriented Programming (OOP) with Python"
      ],
      "metadata": {
        "id": "Esn8SAA8MEDf"
      }
    },
    {
      "cell_type": "markdown",
      "source": [
        "## Outline\n",
        "\n",
        "This introductory assignment consists of several parts:\n",
        "* An explanation of beginner-friendly principles of OOP set in contrast to the more simple procedural programming paradigm\n",
        "* A step-by-step guide to creating a simple Python program using OOP\n",
        "* A sandbox environment for editing and playing with the provided step-by-step example to help you gain familiarity with OOP principles.\n",
        "* An assignment that guides you to specify, implement, and instantiate a custom class.\n",
        "* Template code for the assignment\n",
        "* A list of relevant tools needed to complete this assignment"
      ],
      "metadata": {
        "id": "zc8bsso0D0qz"
      }
    },
    {
      "cell_type": "markdown",
      "source": [
        "## Background\n",
        "\n",
        "### Procedural Programming\n",
        "\n",
        "Let's start our discussion with a brief review of procedural programming. In this programming paradigm, the code is structured linearly and makes extensive use of functions and a succession of steps to execute the program. In the example below, a single function is used to first collect user inputs, perform a calculation, and print an output statement. The function is called once, triggering the actions to occur. Inside the function, the steps are processed sequentially."
      ],
      "metadata": {
        "id": "1Gt3vNF_MQnn"
      }
    },
    {
      "cell_type": "code",
      "source": [
        "#function to collect and process user inputs\n",
        "def get_groceries():\n",
        "\n",
        "  #collect user inputs\n",
        "  item = input(\"Item: \")\n",
        "  quantity = int(input(\"Quantity: \"))\n",
        "  unit_price = int(input(\"Unit price: \"))\n",
        "\n",
        "  #calculate the total price\n",
        "  total = unit_price*quantity\n",
        "\n",
        "  #output\n",
        "  print(f\"You bought {quantity} {item}(s) for a total of ${total}.\")\n",
        "\n",
        "#run the function\n",
        "get_groceries()"
      ],
      "metadata": {
        "colab": {
          "base_uri": "https://localhost:8080/"
        },
        "id": "5Gtt1UyashBN",
        "outputId": "1940e377-dde9-4148-c52c-95895cbee1d0"
      },
      "execution_count": 12,
      "outputs": [
        {
          "output_type": "stream",
          "name": "stdout",
          "text": [
            "Item: code\n",
            "Quantity: 7\n",
            "Unit price: 9\n",
            "You bought 7 code(s) for a total of $63.\n"
          ]
        }
      ]
    },
    {
      "cell_type": "markdown",
      "source": [
        "\n",
        "### Object-oriented Programming\n",
        "\n",
        "In contrast with procedural programming, the OOP paradigm relies on the construction and interaction of entities called objects. This strategy has the advantage of reusability due to the use of object templates called classes. Let's look at an example for some clarity.\n",
        "\n",
        "Imagine you are designing software to help model the biodiversity of the forest. As you can imagine, there would be many types of plants, animals, fungi, and microbes living together. Programming each of the individuals would be difficult and by using high-level classes for each of these major organism types, you could create a template for each to contain their shared properties.\n",
        "\n",
        "##### Example 1: Forest Biodiversity\n",
        "\n",
        "For example, a `Plant` class would have its inputs defined as sunlight, carbon dioxide, and water. Its output would be oxygen and sugar. Another shared characteristic that could be defined in this class is a plant's preferred light environment such as full shade, partial shade, partial sun, or full sun. All of these characteristics are known as attributes.\n",
        "\n",
        "Each \"instance\" of the `Plant` class (of which there could be many) could then differ from each other instance. For example, while oak trees and ferns could be instances of the `Plant` class, and share characteristics common among most plants, the lighting requirements for each would take a different value with oaks preferring full sun and ferns preferring full shade. Do you see how the instances relate to the class? The same approach would be used for each other organism type with several important classes and many instances of those classes for each individual.\n",
        "\n",
        "| ![Plant_class](https://drive.google.com/uc?export=view&id=1Cf4XxRYXcfpc1PvItU6jfER2TZ5v-EWA) |\n",
        "|:--:|\n",
        "| *Figure 1: Plant Class and Instances \"Oak\" and \"Fern\"* |\n",
        "\n",
        "##### Example 2: Video Game Characters\n",
        "\n",
        "The concept of instances being derived from classes is quite powerful and perhaps familiar to you if you have any experience with video games. Individual enemy character instances might belong to the class `Enemy` and share characteristics like `health_level` and `damage_level` but the `boss_enemy` might have a much higher value for each of those attributes than the lower-level common enemies. The OOP paradigm is strong for this type of application because it allows the code to be more easily maintained. For example, if all enemies needed a new attribute, the modification could be made to the parent `Enemy` class and it would be inherited by all instances of that class.\n",
        "\n",
        "\n",
        "\n",
        "\n"
      ],
      "metadata": {
        "id": "3q48lfcdxQ8K"
      }
    },
    {
      "cell_type": "markdown",
      "source": [
        "## OOP Coding\n",
        "\n",
        "To create a class in Python, type the keyword `class` followed by the class name, which is capitalized. Follow that with a colon character.  \n",
        "\n",
        "Let's continue with the example of video game enemy characters and set up the class as follows:\n",
        "\n",
        "```\n",
        "class Enemy:\n",
        "```\n",
        "\n",
        "Below that, add an initialization function (called a method because it's a function inside a class) which takes the class attributes as arguments. Importantly, you'll want to also include the `self` attribute as an argument. Note the use of \"double underscores\" or \"dunders\" in the function name. These are used here to prevent issues with naming collisions or conflicts that arise when multiple objects have the same name.\n",
        "\n",
        "```\n",
        "class Enemy:\n",
        "  def __init__(self, health, damage):\n",
        "```\n",
        "\n",
        "Inside that \"init\" method, define the custom attributes as properties of the self attribute.\n",
        "\n",
        "```\n",
        "class Enemy:\n",
        "  def __init__(self, health, damage):\n",
        "    self.health = health\n",
        "    self.damage = damage\n",
        "```\n",
        "\n",
        "Now, create a function called `create_villain` to create an `Enemy` instance called a villain with health of 80 and damage of 6. This will be a low-level common enemy type. Be sure to return the villain variable.\n",
        "\n",
        "```\n",
        "class Enemy:\n",
        "  def __init__(self, health, damage):\n",
        "    self.health = health\n",
        "    self.damage = damage\n",
        "\n",
        "def create_villain:\n",
        "    villain = Enemy(80,6)\n",
        "    return villain\n",
        "```\n",
        "\n",
        "Next, create a `main` function where the `create_villain` function is called. Include an ominous output statement warning the player that a villain has appeared with certain health and damage levels. Following best practices, include a statement that ensures your code only runs as a standalone file and not as an imported file.\n",
        "\n",
        "Be sure to pay attention to how the main function calls the `create_villain` function which itself creates an instance of the class `Enemy`. Imagine for a moment how another function could instantiate a new type of enemy and how the main function would be used to call that enemy into existence and produce some type of output.\n",
        "\n",
        "```\n",
        "class Enemy:\n",
        "  def __init__(self, health, damage):\n",
        "    self.health = health\n",
        "    self.damage = damage\n",
        "\n",
        "def create_villain:\n",
        "    villain = Enemy(80,6)\n",
        "    return villain\n",
        "\n",
        "def main():\n",
        "  villain = create_villain()\n",
        "  print(f\"Watch out! A villain with {villain.health} health and {villain.damage} damage has appeared!\")\n",
        "\n",
        "if __name__ == \"__main__\":\n",
        "   main()     \n",
        "```\n"
      ],
      "metadata": {
        "id": "rnL2HTco9L1c"
      }
    },
    {
      "cell_type": "markdown",
      "source": [
        "To see the code in action, run the section below. Feel free to modify the values as you wish. You're encouraged to edit this section to try any of your own ideas."
      ],
      "metadata": {
        "id": "sdkqp-88BQcH"
      }
    },
    {
      "cell_type": "code",
      "source": [
        "class Enemy:\n",
        "  def __init__(self, health, damage):\n",
        "    self.health = health\n",
        "    self.damage = damage\n",
        "\n",
        "def create_villain():\n",
        "    villain = Enemy(80,6)\n",
        "    return villain\n",
        "\n",
        "def main():\n",
        "  villain = create_villain()\n",
        "\n",
        "  print(f\"Watch out! A villain with {villain.health} health and {villain.damage} damage has appeared!\")\n",
        "\n",
        "if __name__ == \"__main__\":\n",
        "   main()"
      ],
      "metadata": {
        "colab": {
          "base_uri": "https://localhost:8080/"
        },
        "id": "wZJ91kapAyCF",
        "outputId": "ded098db-65f6-472c-fa09-dcfc0e65e19a"
      },
      "execution_count": 14,
      "outputs": [
        {
          "output_type": "stream",
          "name": "stdout",
          "text": [
            "Watch out! A villain with 80 health and 6 damage has appeared!\n"
          ]
        }
      ]
    },
    {
      "cell_type": "markdown",
      "source": [
        "### Code Challenge\n",
        "\n",
        "Can you figure out how to add a strong boss enemy to the scenario?"
      ],
      "metadata": {
        "id": "GQfKYUMtCK8e"
      }
    },
    {
      "cell_type": "markdown",
      "source": [
        "## Assignment\n",
        "\n",
        "For this assignment, your goals are to:\n",
        "\n",
        "\n",
        "*   define a class `Groceries` which contains three instance variables (`item`, `quantity`, and `total`) in the instance method.\n",
        "*   define a function `get_groceries` which obtains values for the variables `item`,`quantity`,and `unit_price` from user input and returns a `groceries` object.\n",
        "*   define a function `main` which:\n",
        "    * obtains the results of `get_groceries`\n",
        "    * calculates a total price\n",
        "    * prints the results as a string in the form \"You bought `quantity` `item`(s) for a total of $`total`.\".\n",
        "    \n",
        "For example, \"You bought 50 apple(s) for a total of \\$16.\"\n",
        "\n",
        "Use the provided code and replace the ellipses with your own code.\n",
        "\n",
        "### Assumptions\n",
        "\n",
        "* Numeric values are simple integers\n",
        "* Grocery items are single words"
      ],
      "metadata": {
        "id": "jv6SOtVgO6qm"
      }
    },
    {
      "cell_type": "code",
      "source": [
        "#define the Groceries class with three instance variables in the init method\n",
        "class Groceries:\n",
        "  def __init__(self, ...):\n",
        "\n",
        "  ...\n",
        "\n",
        "#define a function to take user input, run the 'total' calculation, and return a Groceries object\n",
        "def ...\n",
        "\n",
        "  ...\n",
        "\n",
        "  #return the object\n",
        "  return ...\n",
        "\n",
        "#define the main function\n",
        "def main():\n",
        "\n",
        "  #get the groceries object\n",
        "  groceries = ...\n",
        "\n",
        "  #print the output statement in a legible format\n",
        "  print(f\"You bought {...} {...}(s) for a total of ${...}.\")\n",
        "\n",
        "#run file iff standalone\n",
        "if __name__ == \"__main__\":\n",
        "  main()"
      ],
      "metadata": {
        "id": "k_r06ZzKC_ue"
      },
      "execution_count": null,
      "outputs": []
    },
    {
      "cell_type": "markdown",
      "source": [
        "## Tools\n",
        "\n",
        "The following tools were used to generate this tutorial and assignment. To complete the assignment, you can modify and run the code cells directly in this Colab Notebook.\n",
        "\n",
        "* [Google Colab](https://research.google.com/colaboratory/)\n",
        "    * \"*Colaboratory, or “Colab” for short, is a product from Google Research. Colab allows anybody to write and execute arbitrary python code through the browser, and is especially well suited to machine learning, data analysis and education. More technically, Colab is a hosted Jupyter notebook service that requires no setup to use, while providing access free of charge to computing resources including GPUs.*\"\n",
        "* [Jupyter Notebook](https://jupyter.org/)\n",
        "    * This environment is a Jupyter Notebook consisting of cells containing code, text, and images. \"*Jupyter is the open source project on which Colab is based. Colab allows you to use and share Jupyter notebooks with others without having to download, install, or run anything.*\"\n",
        "* [Python](https://www.python.org/)\n",
        "    * The Python programming language is the language in which the code sections for this tutorial and assignment were written. Python is a common language used in many applications and it is often preferred for beginner programmers due to its relative simplicity and readability."
      ],
      "metadata": {
        "id": "xSs2mwa1FN8F"
      }
    },
    {
      "cell_type": "markdown",
      "source": [
        "## Assignment Solution"
      ],
      "metadata": {
        "id": "hviVKfR4DpU9"
      }
    },
    {
      "cell_type": "code",
      "execution_count": null,
      "metadata": {
        "colab": {
          "base_uri": "https://localhost:8080/"
        },
        "id": "UQdUAfuxLzOf",
        "outputId": "6fb8cf65-c43a-47e3-9c45-b03a467ba7d7"
      },
      "outputs": [
        {
          "output_type": "stream",
          "name": "stdout",
          "text": [
            "Item: eggs\n",
            "Quantity: 5\n",
            "Unit price: 19\n",
            "You bought 5 eggs(s) for a total of $95.\n"
          ]
        }
      ],
      "source": [
        "class Groceries:\n",
        "  def __init__(self, item, quantity, total):\n",
        "    self.item = item\n",
        "    self.quantity = quantity\n",
        "    self.total = total\n",
        "\n",
        "def get_groceries():\n",
        "\n",
        "  item = input(\"Item: \")\n",
        "  quantity = int(input(\"Quantity: \"))\n",
        "  unit_price = int(input(\"Unit price: \"))\n",
        "  total = unit_price*quantity\n",
        "  groceries = Groceries(item,quantity,total)\n",
        "  return groceries\n",
        "\n",
        "def main():\n",
        "  groceries = get_groceries()\n",
        "  print(f\"You bought {groceries.quantity} {groceries.item}(s) for a total of ${groceries.total}.\")\n",
        "\n",
        "if __name__ == \"__main__\":\n",
        "  main()"
      ]
    }
  ]
}